{
 "cells": [
  {
   "cell_type": "markdown",
   "metadata": {},
   "source": [
    "# Client demo\n",
    "\n",
    "Demonstrate the use of the Client (Assetto Corsa Sim interface) without the OpenAI Gym interface layer."
   ]
  },
  {
   "cell_type": "code",
   "execution_count": 1,
   "metadata": {},
   "outputs": [
    {
     "name": "stdout",
     "output_type": "stream",
     "text": [
      "pygame 2.6.0 (SDL 2.28.4, Python 3.9.19)\n",
      "Hello from the pygame community. https://www.pygame.org/contribute.html\n"
     ]
    }
   ],
   "source": [
    "%matplotlib inline\n",
    "\n",
    "import matplotlib.pyplot as plt\n",
    "import sys\n",
    "import os\n",
    "import numpy as np\n",
    "import pandas as pd\n",
    "import glob as glob\n",
    "import time\n",
    "import pickle\n",
    "from omegaconf import OmegaConf\n",
    "\n",
    "# add custom paths\n",
    "sys.path.extend([os.path.abspath('./assetto_corsa_gym')])\n",
    "import AssettoCorsaEnv.assettoCorsa as assettoCorsa\n",
    "\n",
    "# Configure the logging system\n",
    "import logging\n",
    "logger = logging.getLogger(__name__)\n",
    "logging.basicConfig(\n",
    "    level=logging.INFO,  # Set the logging level (DEBUG, INFO, WARNING, ERROR, CRITICAL)\n",
    "    format='%(asctime)s - %(name)s - %(levelname)s - %(message)s',  # Format of the log messages\n",
    "    datefmt='%Y-%m-%d %H:%M:%S',  # Format of the timestamp\n",
    ")\n"
   ]
  },
  {
   "cell_type": "markdown",
   "metadata": {},
   "source": [
    "# load config file"
   ]
  },
  {
   "cell_type": "code",
   "execution_count": 5,
   "metadata": {},
   "outputs": [
    {
     "name": "stderr",
     "output_type": "stream",
     "text": [
      "2024-07-30 13:16:56 - AssettoCorsaEnv.ac_client - WARNING - Controls will be executed locally and not by the server\n"
     ]
    }
   ],
   "source": [
    "config = OmegaConf.load(\"config.yml\")\n",
    "client = assettoCorsa.make_client_only(config.AssettoCorsa)"
   ]
  },
  {
   "cell_type": "markdown",
   "metadata": {},
   "source": [
    "# Show static info"
   ]
  },
  {
   "cell_type": "code",
   "execution_count": 9,
   "metadata": {},
   "outputs": [
    {
     "name": "stderr",
     "output_type": "stream",
     "text": [
      "2024-07-30 13:22:58 - __main__ - INFO - Static info:\n",
      "2024-07-30 13:22:58 - __main__ - INFO - autoShifterOn: 1\n",
      "2024-07-30 13:22:58 - __main__ - INFO - isCarInPitlane: 1\n",
      "2024-07-30 13:22:58 - __main__ - INFO - TrackName: monza\n",
      "2024-07-30 13:22:58 - __main__ - INFO - TrackLength: 5758.66064453125\n",
      "2024-07-30 13:22:58 - __main__ - INFO - LastSplits: [0, 0, 0]\n",
      "2024-07-30 13:22:58 - __main__ - INFO - CAR_WHEELBASE: 2.2663625188168828\n",
      "2024-07-30 13:22:58 - __main__ - INFO - TrackConfiguration: \n",
      "2024-07-30 13:22:58 - __main__ - INFO - isCarInPit: 1\n",
      "2024-07-30 13:22:58 - __main__ - INFO - WindSpeed: 21\n",
      "2024-07-30 13:22:58 - __main__ - INFO - CAR_TRACK: 1.426605066284887\n",
      "2024-07-30 13:22:58 - __main__ - INFO - penaltiesEnabled: 0\n",
      "2024-07-30 13:22:58 - __main__ - INFO - CarName: ks_mazda_miata\n",
      "2024-07-30 13:22:58 - __main__ - INFO - WindDirection: 359\n",
      "2024-07-30 13:22:58 - __main__ - INFO - CAR_WHEEL_R: [0.2888000011444092, 0.2888000011444092, 0.2888000011444092, 0.2888000011444092]\n",
      "2024-07-30 13:22:58 - __main__ - INFO - TrackFullName: monza\n",
      "2024-07-30 13:22:58 - __main__ - INFO - AC Mod config:\n",
      "2024-07-30 13:22:58 - __main__ - INFO - ego_server_port: 2345\n",
      "2024-07-30 13:22:58 - __main__ - INFO - simulation_management_server_port: 2347\n",
      "2024-07-30 13:22:58 - __main__ - INFO - simulation_management_server_host_name: 0.0.0.0\n",
      "2024-07-30 13:22:58 - __main__ - INFO - opponents_server_host_name: 0.0.0.0\n",
      "2024-07-30 13:22:58 - __main__ - INFO - vjoy_executed_by_server: False\n",
      "2024-07-30 13:22:58 - __main__ - INFO - sampling_time: 0.02\n",
      "2024-07-30 13:22:58 - __main__ - INFO - version: 0.0.1\n",
      "2024-07-30 13:22:58 - __main__ - INFO - ego_server_host_name: 0.0.0.0\n",
      "2024-07-30 13:22:58 - __main__ - INFO - ego_sampling_freq: 25\n",
      "2024-07-30 13:22:58 - __main__ - INFO - telemetry_sampling_freq: 0\n",
      "2024-07-30 13:22:58 - __main__ - INFO - enable_profiler: False\n",
      "2024-07-30 13:22:58 - __main__ - INFO - opponents_server_port: 2346\n",
      "2024-07-30 13:22:58 - __main__ - INFO - sampling_freq: 50\n"
     ]
    }
   ],
   "source": [
    "static_info = client.simulation_management.get_static_info()\n",
    "ac_mod_config = client.simulation_management.get_config()\n",
    "\n",
    "logger.info(\"Static info:\")\n",
    "for i in static_info:\n",
    "    logger.info(f\"{i}: {static_info[i]}\")\n",
    "logger.info(\"AC Mod config:\")\n",
    "for i in ac_mod_config:\n",
    "    logger.info(f\"{i}: {ac_mod_config[i]}\")\n"
   ]
  },
  {
   "cell_type": "markdown",
   "metadata": {},
   "source": [
    "# Apply actions and recover the car"
   ]
  },
  {
   "cell_type": "code",
   "execution_count": 10,
   "metadata": {},
   "outputs": [
    {
     "name": "stderr",
     "output_type": "stream",
     "text": [
      "2024-07-30 13:28:05 - AssettoCorsaEnv.ac_client - INFO - sending reset to simulation management server\n",
      "2024-07-30 13:28:06 - AssettoCorsaEnv.ac_client - INFO - AC Client. Listening at host: localhost port: 2345\n",
      "2024-07-30 13:28:06 - AssettoCorsaEnv.ac_client - INFO - Client connected on 2345\n"
     ]
    },
    {
     "ename": "KeyboardInterrupt",
     "evalue": "",
     "output_type": "error",
     "traceback": [
      "\u001b[1;31m---------------------------------------------------------------------------\u001b[0m",
      "\u001b[1;31mKeyboardInterrupt\u001b[0m                         Traceback (most recent call last)",
      "Cell \u001b[1;32mIn[10], line 12\u001b[0m\n\u001b[0;32m     10\u001b[0m client\u001b[38;5;241m.\u001b[39mcontrols\u001b[38;5;241m.\u001b[39mset_controls(steer\u001b[38;5;241m=\u001b[39msteer, acc\u001b[38;5;241m=\u001b[39m\u001b[38;5;241m0.5\u001b[39m, brake\u001b[38;5;241m=\u001b[39m\u001b[38;5;241m-\u001b[39m\u001b[38;5;241m1.\u001b[39m)\n\u001b[0;32m     11\u001b[0m client\u001b[38;5;241m.\u001b[39mrespond_to_server()\n\u001b[1;32m---> 12\u001b[0m state \u001b[38;5;241m=\u001b[39m \u001b[43mclient\u001b[49m\u001b[38;5;241;43m.\u001b[39;49m\u001b[43mstep_sim\u001b[49m\u001b[43m(\u001b[49m\u001b[43m)\u001b[49m\n\u001b[0;32m     13\u001b[0m states\u001b[38;5;241m.\u001b[39mappend(state\u001b[38;5;241m.\u001b[39mcopy())\n\u001b[0;32m     14\u001b[0m time\u001b[38;5;241m.\u001b[39msleep(\u001b[38;5;241m0.01\u001b[39m)\n",
      "File \u001b[1;32mc:\\Users\\longt\\OneDrive\\Desktop\\assetto_corsa_gym\\assetto_corsa_gym\\AssettoCorsaEnv\\ac_client.py:161\u001b[0m, in \u001b[0;36mstep_sim\u001b[1;34m(self)\u001b[0m\n\u001b[0;32m    158\u001b[0m         \u001b[38;5;28mself\u001b[39m\u001b[38;5;241m.\u001b[39msocket\u001b[38;5;241m.\u001b[39mclose()\n\u001b[0;32m    159\u001b[0m     \u001b[38;5;28mself\u001b[39m\u001b[38;5;241m.\u001b[39msocket \u001b[38;5;241m=\u001b[39m \u001b[38;5;28;01mNone\u001b[39;00m\n\u001b[1;32m--> 161\u001b[0m \u001b[38;5;28;01mdef\u001b[39;00m \u001b[38;5;21mstep_sim\u001b[39m(\u001b[38;5;28mself\u001b[39m):\n\u001b[0;32m    162\u001b[0m     \u001b[38;5;28mself\u001b[39m\u001b[38;5;241m.\u001b[39mget_servers_input()\n\u001b[0;32m    163\u001b[0m     state \u001b[38;5;241m=\u001b[39m \u001b[38;5;28mself\u001b[39m\u001b[38;5;241m.\u001b[39mstate\u001b[38;5;241m.\u001b[39mcopy()\n",
      "File \u001b[1;32mc:\\Users\\longt\\OneDrive\\Desktop\\assetto_corsa_gym\\assetto_corsa_gym\\AssettoCorsaEnv\\ac_client.py:118\u001b[0m, in \u001b[0;36mClient.get_servers_input\u001b[1;34m(self)\u001b[0m\n\u001b[0;32m    115\u001b[0m \u001b[38;5;28;01mwhile\u001b[39;00m \u001b[38;5;28;01mTrue\u001b[39;00m:\n\u001b[0;32m    116\u001b[0m     \u001b[38;5;28;01mtry\u001b[39;00m:\n\u001b[0;32m    117\u001b[0m         \u001b[38;5;66;03m# Receive data from server\u001b[39;00m\n\u001b[1;32m--> 118\u001b[0m         data, _ \u001b[38;5;241m=\u001b[39m \u001b[38;5;28;43mself\u001b[39;49m\u001b[38;5;241;43m.\u001b[39;49m\u001b[43msocket\u001b[49m\u001b[38;5;241;43m.\u001b[39;49m\u001b[43mrecvfrom\u001b[49m\u001b[43m(\u001b[49m\u001b[43mMAX_MSG_SIZE\u001b[49m\u001b[43m)\u001b[49m\n\u001b[0;32m    119\u001b[0m         data \u001b[38;5;241m=\u001b[39m data\u001b[38;5;241m.\u001b[39mdecode()\n\u001b[0;32m    120\u001b[0m         logger\u001b[38;5;241m.\u001b[39mdebug(\u001b[38;5;124mf\u001b[39m\u001b[38;5;124m\"\u001b[39m\u001b[38;5;124mGot from server: \u001b[39m\u001b[38;5;132;01m{\u001b[39;00mdata\u001b[38;5;132;01m}\u001b[39;00m\u001b[38;5;124m\"\u001b[39m)\n",
      "\u001b[1;31mKeyboardInterrupt\u001b[0m: "
     ]
    }
   ],
   "source": [
    "states = []\n",
    "\n",
    "client.reset()\n",
    "\n",
    "for i in range(100):\n",
    "    if i % 2 == 0:\n",
    "        steer = .1\n",
    "    else:\n",
    "        steer = -.1\n",
    "    client.controls.set_controls(steer=steer, acc=0.5, brake=-1.)\n",
    "    client.respond_to_server()\n",
    "    state = client.step_sim()\n",
    "    states.append(state.copy())\n",
    "    time.sleep(0.01)\n",
    "\n",
    "client.controls.set_defaults()\n",
    "client.respond_to_server()\n",
    "client.simulation_management.send_reset()\n",
    "client.close()"
   ]
  },
  {
   "cell_type": "markdown",
   "metadata": {},
   "source": [
    "# Plot states"
   ]
  },
  {
   "cell_type": "code",
   "execution_count": 7,
   "metadata": {},
   "outputs": [
    {
     "data": {
      "text/plain": [
       "Index(['done', 'LapInvalidated', 'actualGear', 'packetId', 'wheel_speed_rr',\n",
       "       'tyres_load', 'cgHeight', 'rl_tire_temperature_core',\n",
       "       'fr_tire_pressure', 'yaw', 'LastFF', 'completedLaps', 'fl_wheel_load',\n",
       "       'tyre_slip_ratio_fr', 'rl_damper_linear_potentiometer', 'penaltyTime',\n",
       "       'tyre_slip_ratio_rr', 'accelY', 'accelX', 'world_position_x',\n",
       "       'world_position_y', 'world_position_z', 'wheel_speed_rl',\n",
       "       'SlipAngle_fr', 'BestLap', 'Dy_fr', 'wheel_speed_fr',\n",
       "       'local_velocity_z', 'local_velocity_y', 'local_velocity_x',\n",
       "       'rr_tire_pressure', 'RPM', 'NdSlip', 'Dy_fl', 'wheel_speed_fl',\n",
       "       'angular_velocity_x', 'angular_velocity_y', 'angular_velocity_z',\n",
       "       'SlipAngle_fl', 'fl_damper_linear_potentiometer', 'velocity_x',\n",
       "       'SuspensionTravel', 'Mz', 'tyre_slip_ratio_rl',\n",
       "       'rr_tire_temperature_core', 'Dy_rl', 'velocity_z', 'rr_wheel_load',\n",
       "       'pitch', 'tyre_slip_ratio_fl', 'timestamp_ac', 'currentTime',\n",
       "       'LapCount', 'Dy_rr', 'iLastTime', 'dynamic_pressure', 'CamberRad',\n",
       "       'isInPit', 'rr_damper_linear_potentiometer', 'tyre_loaded_radius',\n",
       "       'steerAngle', 'total_errors_out_of_sync', 'accStatus', 'rl_wheel_load',\n",
       "       'SlipAngle_rr', 'tyre_heading_vector', 'brakeStatus',\n",
       "       'fr_damper_linear_potentiometer', 'fr_tire_temperature_core',\n",
       "       'fl_tire_pressure', 'NormalizedSplinePosition', 'velocity_y', 'speed',\n",
       "       'SlipAngle_rl', 'numberOfTyresOut', 'steps', 'fr_wheel_load',\n",
       "       'rl_tire_pressure', 'roll', 'fl_tire_temperature_core'],\n",
       "      dtype='object')"
      ]
     },
     "execution_count": 7,
     "metadata": {},
     "output_type": "execute_result"
    }
   ],
   "source": [
    "df = pd.DataFrame(states)\n",
    "df.columns"
   ]
  },
  {
   "cell_type": "code",
   "execution_count": null,
   "metadata": {},
   "outputs": [],
   "source": [
    "plt.title(\"Speed\")\n",
    "plt.plot(df.speed)\n",
    "plt.show()\n",
    "\n",
    "plt.title(\"steerAngle\")\n",
    "plt.plot(df.steerAngle)\n",
    "plt.show()"
   ]
  }
 ],
 "metadata": {
  "kernelspec": {
   "display_name": "Python 3 (ipykernel)",
   "language": "python",
   "name": "python3"
  },
  "language_info": {
   "codemirror_mode": {
    "name": "ipython",
    "version": 3
   },
   "file_extension": ".py",
   "mimetype": "text/x-python",
   "name": "python",
   "nbconvert_exporter": "python",
   "pygments_lexer": "ipython3",
   "version": "3.9.19"
  }
 },
 "nbformat": 4,
 "nbformat_minor": 4
}
