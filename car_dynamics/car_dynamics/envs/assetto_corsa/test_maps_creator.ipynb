{
 "cells": [
  {
   "cell_type": "code",
   "execution_count": null,
   "metadata": {},
   "outputs": [],
   "source": [
    "%matplotlib inline\n",
    "\n",
    "import matplotlib.pyplot as plt\n",
    "import sys\n",
    "import os\n",
    "import numpy as np\n",
    "import pandas as pd\n",
    "import glob as glob\n",
    "import time\n",
    "import pickle\n",
    "from omegaconf import OmegaConf\n",
    "\n",
    "# add custom paths\n",
    "sys.path.extend([os.path.abspath('./assetto_corsa_gym')])\n",
    "import AssettoCorsaEnv.assettoCorsa as assettoCorsa\n",
    "from AssettoCorsaEnv.brake_map import BrakeMap\n",
    "\n",
    "# Configure the logging system\n",
    "import logging\n",
    "logger = logging.getLogger(__name__)\n",
    "logging.basicConfig(\n",
    "    level=logging.INFO,  # Set the logging level (DEBUG, INFO, WARNING, ERROR, CRITICAL)\n",
    "    format='%(asctime)s - %(name)s - %(levelname)s - %(message)s',  # Format of the log messages\n",
    "    datefmt='%Y-%m-%d %H:%M:%S',  # Format of the timestamp\n",
    ")\n",
    "\n"
   ]
  },
  {
   "cell_type": "code",
   "execution_count": null,
   "metadata": {},
   "outputs": [],
   "source": [
    "# Create environment\n",
    "config = OmegaConf.load(\"config.yml\")\n",
    "\n",
    "# Set the configuration\n",
    "config.AssettoCorsa.use_relative_actions = False\n",
    "config.AssettoCorsa.enable_low_speed_termination = False\n",
    "config.AssettoCorsa.car = \"dallara_f317\" # ks_mazda_miata\" # \"bmw_z4_gt3\"\n",
    "\n",
    "env = assettoCorsa.make_ac_env(cfg=config, work_dir=\"output\")"
   ]
  },
  {
   "cell_type": "markdown",
   "metadata": {},
   "source": [
    "# Create the brake map by setting values throughout the full range and observing the telemetry"
   ]
  },
  {
   "cell_type": "code",
   "execution_count": null,
   "metadata": {},
   "outputs": [],
   "source": [
    "res = []\n",
    "\n",
    "env.reset()\n",
    "for b in np.linspace(-1,1, 21):\n",
    "    for i in range(25):\n",
    "        _, _, done, _ = env.step([0.0, -1.0, b])\n",
    "    r = {'brake': b, 'brakeStatus': env.state['brakeStatus']}\n",
    "    res.append(r.copy())\n",
    "    print(r)\n",
    "\n",
    "# Save\n",
    "x = [r['brake'] for r in res]\n",
    "y = [r['brakeStatus'] for r in res]\n",
    "brake_map = BrakeMap(x, y, kind='cubic')\n",
    "brake_map.save()"
   ]
  },
  {
   "cell_type": "code",
   "execution_count": null,
   "metadata": {},
   "outputs": [],
   "source": [
    "#brake_map = BrakeMap.load()"
   ]
  },
  {
   "cell_type": "code",
   "execution_count": null,
   "metadata": {},
   "outputs": [],
   "source": [
    "y_int = brake_map.get_y(np.arange(-1, 1, 0.01))\n",
    "\n",
    "# Create the plot\n",
    "plt.figure(figsize=(8, 6))\n",
    "plt.plot(x, y, 'o-', label='Data Points', alpha=0.5)  # 'o-' creates a line plot with circle markers\n",
    "plt.scatter(np.arange(-1, 1, 0.01), y_int, s=2, label='Data Points', color='red')  # 'o-' creates a line plot with circle markers\n",
    "\n",
    "# Adding plot labels and title\n",
    "plt.xlabel('brake')\n",
    "plt.ylabel('brake AC Feedback')\n",
    "plt.title('brake map forward')\n",
    "plt.grid(True)  # Show grid\n",
    "plt.legend()  # Show legend\n",
    "\n",
    "# Display the plot\n",
    "plt.show()\n",
    "\n",
    "y = np.arange(0, 1, 0.01) # brake status\n",
    "x_int = brake_map.get_x(y)\n",
    "\n",
    "# Create the plot\n",
    "plt.figure(figsize=(8, 6))\n",
    "plt.scatter(y, x_int, s=2, label='Data Points', color='red')  # 'o-' creates a line plot with circle markers\n",
    "\n",
    "# Adding plot labels and title\n",
    "plt.xlabel('brake AC Feedback')\n",
    "plt.ylabel('brake')\n",
    "plt.title('Reverse')\n",
    "plt.grid(True)  # Show grid\n",
    "plt.legend()  # Show legend\n",
    "\n",
    "# Display the plot\n",
    "plt.show()"
   ]
  },
  {
   "cell_type": "markdown",
   "metadata": {},
   "source": [
    "# steer map"
   ]
  },
  {
   "cell_type": "code",
   "execution_count": null,
   "metadata": {},
   "outputs": [],
   "source": [
    "res = []\n",
    "\n",
    "env.reset()\n",
    "for b in [-1 , 1]:\n",
    "    for i in range(25):\n",
    "        _, _, done, _ = env.step([b, -1.0, -1.0])\n",
    "    r = {'action_steerAngle': b, 'steerAngle': env.state['steerAngle']}\n",
    "    res.append(r.copy())\n",
    "print(res)"
   ]
  }
 ],
 "metadata": {
  "kernelspec": {
   "display_name": "Python 3 (ipykernel)",
   "language": "python",
   "name": "python3"
  },
  "language_info": {
   "codemirror_mode": {
    "name": "ipython",
    "version": 3
   },
   "file_extension": ".py",
   "mimetype": "text/x-python",
   "name": "python",
   "nbconvert_exporter": "python",
   "pygments_lexer": "ipython3",
   "version": "3.9.13"
  }
 },
 "nbformat": 4,
 "nbformat_minor": 4
}
